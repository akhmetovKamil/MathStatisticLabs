{
 "cells": [
  {
   "cell_type": "markdown",
   "source": [
    "# Первая Лабораторная работа"
   ],
   "metadata": {
    "collapsed": false
   },
   "id": "7d4381a5dceca6fc"
  },
  {
   "cell_type": "markdown",
   "source": [
    "#### Устанавливаем зависимости и подключаем библиотеки"
   ],
   "metadata": {
    "collapsed": false
   },
   "id": "4f181ab1f3217df3"
  },
  {
   "cell_type": "code",
   "outputs": [],
   "source": [
    "# !pip install pandas matplotlib pyarrow"
   ],
   "metadata": {
    "collapsed": false,
    "ExecuteTime": {
     "end_time": "2024-02-15T18:32:13.818740Z",
     "start_time": "2024-02-15T18:32:13.705260Z"
    }
   },
   "id": "628d5ed6353f296f",
   "execution_count": 1
  },
  {
   "cell_type": "code",
   "outputs": [],
   "source": [
    "import csv\n",
    "import math\n",
    "import pandas\n",
    "import matplotlib\n",
    "from typing import Dict"
   ],
   "metadata": {
    "collapsed": false,
    "ExecuteTime": {
     "end_time": "2024-02-15T18:32:38.128417Z",
     "start_time": "2024-02-15T18:32:13.770212Z"
    }
   },
   "id": "5c8d0390df0d6b25",
   "execution_count": 2
  },
  {
   "cell_type": "markdown",
   "source": [
    "#### Считываем и сортируем данные"
   ],
   "metadata": {
    "collapsed": false
   },
   "id": "e4edf2caf876fe4f"
  },
  {
   "cell_type": "code",
   "outputs": [],
   "source": [
    "csvfile = open('data/r1z1.csv', 'r', newline='')\n",
    "csvReader = csv.reader(csvfile, delimiter=' ', quotechar='|')\n",
    "rowData = [''.join(row) for row in csvReader][1:]\n",
    "sortedData = list(map(float,rowData))\n",
    "sortedData.sort()\n",
    "frame = pandas.DataFrame(sortedData)"
   ],
   "metadata": {
    "collapsed": false,
    "ExecuteTime": {
     "end_time": "2024-02-15T18:32:38.173223Z",
     "start_time": "2024-02-15T18:32:38.134045Z"
    }
   },
   "id": "4dec57f7cc7c1b77",
   "execution_count": 3
  },
  {
   "cell_type": "markdown",
   "source": [
    "#### Вычисляем необходимую информацию о выборке"
   ],
   "metadata": {
    "collapsed": false
   },
   "id": "fb4e8c0badc2c32"
  },
  {
   "cell_type": "code",
   "outputs": [],
   "source": [
    "results: Dict[str, float] = {}\n",
    "\n",
    "results['selectionLength'] = len(sortedData)\n",
    "results['minElement'] = min(sortedData)\n",
    "results['maxElement'] = max(sortedData)\n",
    "results['selectionRange'] = results['maxElement'] - results['minElement']\n",
    "results['mean'] = round(sum(sortedData)/results['selectionLength'],2)\n",
    "results['meanByPandas'] = round(frame.mean().values[0],2)\n",
    "expr = (results['selectionLength']-1)/2\n",
    "results['median'] = sortedData[int(expr)+1] if expr==int(expr) else (sortedData[int(expr)+1] + sortedData[int(expr)+2])/2\n",
    "results['medianByPandas'] = round(frame.median().values[0],2)\n",
    "results['absoluteMeanDeviation'] = round(sum([x-results['mean'] for x in sortedData])/results['selectionLength'],3)\n",
    "results['dispersion'] = round(sum([(x-results['mean'])**2 for x in sortedData])/(results['selectionLength']-1),2)\n",
    "results['standardDeviation'] = round(math.sqrt(results['dispersion']),2)\n",
    "results['asymmetryCoefficient'] = round(sum([(x-results['mean'])**3 for x in sortedData])/(results['selectionLength']*results['standardDeviation']**3),2)"
   ],
   "metadata": {
    "collapsed": false,
    "ExecuteTime": {
     "end_time": "2024-02-15T18:32:38.242664Z",
     "start_time": "2024-02-15T18:32:38.186188Z"
    }
   },
   "id": "a08dd16b06c90917",
   "execution_count": 4
  },
  {
   "cell_type": "code",
   "outputs": [],
   "source": [
    "def getQuartile(data: list[float], n: float, param: float) -> float:\n",
    "    expr = (n - 1) * param\n",
    "    return data[expr+1] if expr==int(expr) else (data[int(expr)+1] + data[int(expr)+2])/2\n",
    "results['firstQuartile'] = getQuartile(sortedData, results['selectionLength'], 0.25)\n",
    "results['thirdQuartile'] = getQuartile(sortedData, results['selectionLength'], 0.75)\n",
    "results['interquartileLatitude'] = results['thirdQuartile'] - results['firstQuartile']"
   ],
   "metadata": {
    "collapsed": false,
    "ExecuteTime": {
     "end_time": "2024-02-15T18:32:38.245403Z",
     "start_time": "2024-02-15T18:32:38.213577Z"
    }
   },
   "id": "36b5e6769f6101b4",
   "execution_count": 5
  },
  {
   "cell_type": "code",
   "outputs": [],
   "source": [
    "barData = {}\n",
    "barData['intervalsCount'] = int(results['selectionLength']/10)\n",
    "barData['step'] = round(results['selectionRange']/barData['intervalsCount'],2)\n",
    "# dataVariata = {value:rowData.count(value) for value in rowData}\n",
    "results['barData'] = barData"
   ],
   "metadata": {
    "collapsed": false,
    "ExecuteTime": {
     "end_time": "2024-02-15T18:32:38.361902Z",
     "start_time": "2024-02-15T18:32:38.237975Z"
    }
   },
   "id": "d813021c292244e5",
   "execution_count": 6
  },
  {
   "cell_type": "markdown",
   "source": [
    "#### Выводим числовые данные"
   ],
   "metadata": {
    "collapsed": false
   },
   "id": "1cdb6070dbcba029"
  },
  {
   "cell_type": "code",
   "outputs": [
    {
     "name": "stdout",
     "output_type": "stream",
     "text": [
      "Объем выборки - 92\n",
      "Выборочное среднее - 121.0, Медиана - 121.4, Абсолютно среднее отклонение - -0.002\n",
      "Дисперсия - 8.04, Стандартное отклонение - 2.84, Коэф. Ассиметрии - -0.7\n",
      "Минимальный элемент - 110.5, Максимальный элемент - 126.5, Размах - 16.0\n",
      "Первая квартиль - 119.1, Третья квартиль - 123.1, Интерквартильная Широта - 4.0\n"
     ]
    }
   ],
   "source": [
    "print(f'Объем выборки - {results[\"selectionLength\"]}')\n",
    "print(f'Выборочное среднее - {results[\"mean\"]}, Медиана - {results[\"median\"]}, Абсолютно среднее отклонение - {results[\"absoluteMeanDeviation\"]}')\n",
    "print(f'Дисперсия - {results[\"dispersion\"]}, Стандартное отклонение - {results[\"standardDeviation\"]}, Коэф. Ассиметрии - {results[\"asymmetryCoefficient\"]}')\n",
    "print(f'Минимальный элемент - {results[\"minElement\"]}, Максимальный элемент - {results[\"maxElement\"]}, Размах - {results[\"selectionRange\"]}')\n",
    "print(f'Первая квартиль - {results[\"firstQuartile\"]}, Третья квартиль - {results[\"thirdQuartile\"]}, Интерквартильная Широта - {results[\"interquartileLatitude\"]}')"
   ],
   "metadata": {
    "collapsed": false,
    "ExecuteTime": {
     "end_time": "2024-02-15T18:32:38.511154Z",
     "start_time": "2024-02-15T18:32:38.275571Z"
    }
   },
   "id": "242fa6f5d6499f4e",
   "execution_count": 7
  },
  {
   "cell_type": "markdown",
   "source": [
    "#### График распределения"
   ],
   "metadata": {
    "collapsed": false
   },
   "id": "c7e55973e79751ca"
  },
  {
   "cell_type": "code",
   "outputs": [
    {
     "data": {
      "text/plain": "<Axes: >"
     },
     "execution_count": 8,
     "metadata": {},
     "output_type": "execute_result"
    },
    {
     "data": {
      "text/plain": "<Figure size 640x480 with 1 Axes>",
      "image/png": "[encoded data removed]"
     },
     "metadata": {},
     "output_type": "display_data"
    }
   ],
   "source": [
    "frame.plot()"
   ],
   "metadata": {
    "collapsed": false,
    "ExecuteTime": {
     "end_time": "2024-02-15T18:32:39.920787Z",
     "start_time": "2024-02-15T18:32:38.331025Z"
    }
   },
   "id": "8ce7bd5a127ca77",
   "execution_count": 8
  },
  {
   "cell_type": "markdown",
   "source": [
    "#### Ящик с усами"
   ],
   "metadata": {
    "collapsed": false
   },
   "id": "2a51e7668b2bbcf3"
  },
  {
   "cell_type": "code",
   "outputs": [
    {
     "data": {
      "text/plain": "<Axes: >"
     },
     "execution_count": 9,
     "metadata": {},
     "output_type": "execute_result"
    },
    {
     "data": {
      "text/plain": "<Figure size 640x480 with 1 Axes>",
      "image/png": "[encoded data removed]"
     },
     "metadata": {},
     "output_type": "display_data"
    }
   ],
   "source": [
    "frame.boxplot()"
   ],
   "metadata": {
    "collapsed": false,
    "ExecuteTime": {
     "end_time": "2024-02-15T18:32:40.445408Z",
     "start_time": "2024-02-15T18:32:39.937Z"
    }
   },
   "id": "e2ee2ca5be016e47",
   "execution_count": 9
  },
  {
   "cell_type": "markdown",
   "source": [
    "#### Частотная гистограмма"
   ],
   "metadata": {
    "collapsed": false
   },
   "id": "c9ed5401af40e939"
  },
  {
   "cell_type": "code",
   "outputs": [],
   "source": [
    "# график"
   ],
   "metadata": {
    "collapsed": false,
    "ExecuteTime": {
     "end_time": "2024-02-15T18:32:40.500012Z",
     "start_time": "2024-02-15T18:32:40.449840Z"
    }
   },
   "id": "de5033dbbc384a94",
   "execution_count": 10
  },
  {
   "cell_type": "markdown",
   "source": [
    "#### Вероятностная гистограмма"
   ],
   "metadata": {
    "collapsed": false
   },
   "id": "d4e82b43bace3e17"
  },
  {
   "cell_type": "code",
   "outputs": [],
   "source": [
    "# график"
   ],
   "metadata": {
    "collapsed": false,
    "ExecuteTime": {
     "end_time": "2024-02-15T18:32:40.501470Z",
     "start_time": "2024-02-15T18:32:40.469310Z"
    }
   },
   "id": "a7c0e332f5820334",
   "execution_count": 11
  },
  {
   "cell_type": "markdown",
   "source": [
    "#### Эмпирическая функция распределения"
   ],
   "metadata": {
    "collapsed": false
   },
   "id": "6386272fa36901df"
  },
  {
   "cell_type": "code",
   "outputs": [],
   "source": [
    "# ЭФР"
   ],
   "metadata": {
    "collapsed": false
   },
   "id": "d09713e2264a5983"
  }
 ],
 "metadata": {
  "kernelspec": {
   "display_name": "Python 3",
   "language": "python",
   "name": "python3"
  },
  "language_info": {
   "codemirror_mode": {
    "name": "ipython",
    "version": 2
   },
   "file_extension": ".py",
   "mimetype": "text/x-python",
   "name": "python",
   "nbconvert_exporter": "python",
   "pygments_lexer": "ipython2",
   "version": "2.7.6"
  }
 },
 "nbformat": 4,
 "nbformat_minor": 5
}
