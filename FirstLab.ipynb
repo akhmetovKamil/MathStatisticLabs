{
 "cells": [
  {
   "cell_type": "markdown",
   "id": "7d4381a5dceca6fc",
   "metadata": {
    "collapsed": false
   },
   "source": [
    "# Первая Лабораторная работа"
   ]
  },
  {
   "cell_type": "markdown",
   "id": "4f181ab1f3217df3",
   "metadata": {
    "collapsed": false
   },
   "source": [
    "#### Устанавливаем зависимости и подключаем библиотеки"
   ]
  },
  {
   "cell_type": "code",
   "execution_count": 132,
   "id": "628d5ed6353f296f",
   "metadata": {
    "collapsed": false,
    "ExecuteTime": {
     "end_time": "2024-02-17T21:41:57.895016Z",
     "start_time": "2024-02-17T21:41:57.820398Z"
    }
   },
   "outputs": [],
   "source": [
    "# !pip install pandas matplotlib pyarrow statsmodels"
   ]
  },
  {
   "cell_type": "code",
   "execution_count": 133,
   "id": "5c8d0390df0d6b25",
   "metadata": {
    "collapsed": false,
    "ExecuteTime": {
     "end_time": "2024-02-17T21:41:57.946165Z",
     "start_time": "2024-02-17T21:41:57.897362Z"
    }
   },
   "outputs": [],
   "source": [
    "import csv\n",
    "import math\n",
    "import pandas\n",
    "import matplotlib.pyplot as plt\n",
    "import statsmodels.api as sm\n",
    "import numpy as np\n",
    "from typing import Dict"
   ]
  },
  {
   "cell_type": "markdown",
   "id": "e4edf2caf876fe4f",
   "metadata": {
    "collapsed": false
   },
   "source": [
    "#### Считываем и сортируем данные"
   ]
  },
  {
   "cell_type": "code",
   "execution_count": 134,
   "id": "4dec57f7cc7c1b77",
   "metadata": {
    "collapsed": false,
    "ExecuteTime": {
     "end_time": "2024-02-17T21:41:58.001274Z",
     "start_time": "2024-02-17T21:41:57.935864Z"
    }
   },
   "outputs": [],
   "source": [
    "csvfile = open('data/r1z1.csv', 'r', newline='')\n",
    "csvReader = csv.reader(csvfile, delimiter=' ', quotechar='|')\n",
    "rowData = [''.join(row) for row in csvReader][1:]\n",
    "sortedData = list(map(float,rowData))\n",
    "sortedData.sort()\n",
    "frame = pandas.DataFrame(sortedData)"
   ]
  },
  {
   "cell_type": "markdown",
   "id": "fb4e8c0badc2c32",
   "metadata": {
    "collapsed": false
   },
   "source": [
    "#### Вычисляем необходимую информацию о выборке"
   ]
  },
  {
   "cell_type": "code",
   "execution_count": 135,
   "id": "a08dd16b06c90917",
   "metadata": {
    "collapsed": false,
    "ExecuteTime": {
     "end_time": "2024-02-17T21:41:58.041532Z",
     "start_time": "2024-02-17T21:41:57.994231Z"
    }
   },
   "outputs": [],
   "source": [
    "results: Dict[str, float] = {}\n",
    "\n",
    "results['selectionLength'] = len(sortedData)\n",
    "results['minElement'] = min(sortedData)\n",
    "results['maxElement'] = max(sortedData)\n",
    "results['selectionRange'] = results['maxElement'] - results['minElement']\n",
    "results['mean'] = round(sum(sortedData)/results['selectionLength'],2)\n",
    "results['meanByPandas'] = round(frame.mean().values[0],2)\n",
    "expr = (results['selectionLength']-1)/2\n",
    "results['median'] = sortedData[expr+1] if expr==int(expr) else (sortedData[int(expr)+1] + sortedData[int(expr)+2])/2\n",
    "results['medianByPandas'] = round(frame.median().values[0],2)\n",
    "results['absoluteMeanDeviation'] = abs(round((sum([x-results['mean'] for x in sortedData]))/results['selectionLength'],3))\n",
    "results['dispersion'] = round(sum([(x-results['mean'])**2 for x in sortedData])/(results['selectionLength']-1),2)\n",
    "results['standardDeviation'] = round(math.sqrt(results['dispersion']),2)\n",
    "results['asymmetryCoefficient'] = round(sum([(x-results['mean'])**3 for x in sortedData])/(results['selectionLength']*results['standardDeviation']**3),2)"
   ]
  },
  {
   "cell_type": "code",
   "execution_count": 136,
   "id": "36b5e6769f6101b4",
   "metadata": {
    "collapsed": false,
    "ExecuteTime": {
     "end_time": "2024-02-17T21:41:58.122002Z",
     "start_time": "2024-02-17T21:41:58.046006Z"
    }
   },
   "outputs": [],
   "source": [
    "def getQuartile(data: list[float], n: float, param: float) -> float:\n",
    "    expr = (n - 1) * param\n",
    "    return data[expr+1] if expr==int(expr) else (data[int(expr)+1] + data[int(expr)+2])/2\n",
    "results['firstQuartile'] = getQuartile(sortedData, results['selectionLength'], 0.25)\n",
    "results['thirdQuartile'] = getQuartile(sortedData, results['selectionLength'], 0.75)\n",
    "results['interquartileLatitude'] = results['thirdQuartile'] - results['firstQuartile']"
   ]
  },
  {
   "cell_type": "code",
   "execution_count": 137,
   "id": "d813021c292244e5",
   "metadata": {
    "collapsed": false,
    "ExecuteTime": {
     "end_time": "2024-02-17T21:41:58.197Z",
     "start_time": "2024-02-17T21:41:58.112285Z"
    }
   },
   "outputs": [],
   "source": [
    "barData = {}\n",
    "barData['intervalsCount'] = int(results['selectionLength']/10)\n",
    "barData['step'] = results['selectionRange']/barData['intervalsCount']\n",
    "barData['intervals'] = np.arange(results['minElement'], results['maxElement'] + barData['step'], barData['step'])\n",
    "barData['frequency'], _ = np.histogram(sortedData, bins=barData['intervals'])\n",
    "barData['relativeFrequency'] = barData['frequency'] / results['selectionLength']\n",
    "results['barData'] = barData"
   ]
  },
  {
   "cell_type": "markdown",
   "id": "1cdb6070dbcba029",
   "metadata": {
    "collapsed": false
   },
   "source": [
    "#### Выводим числовые данные"
   ]
  },
  {
   "cell_type": "code",
   "execution_count": 138,
   "id": "242fa6f5d6499f4e",
   "metadata": {
    "collapsed": false,
    "ExecuteTime": {
     "end_time": "2024-02-17T21:41:58.229396Z",
     "start_time": "2024-02-17T21:41:58.159933Z"
    }
   },
   "outputs": [
    {
     "name": "stdout",
     "output_type": "stream",
     "text": [
      "Объем выборки - 92\n",
      "Выборочное среднее - 121.0, Медиана - 121.4, Абсолютно среднее отклонение - 0.002\n",
      "Дисперсия - 8.04, Стандартное отклонение - 2.84, Коэф. Ассиметрии - -0.7\n",
      "Минимальный элемент - 110.5, Максимальный элемент - 126.5, Размах - 16.0\n",
      "Первая квартиль - 119.1, Третья квартиль - 123.1, Интерквартильная Широта - 4.0\n"
     ]
    }
   ],
   "source": [
    "print(f'Объем выборки - {results[\"selectionLength\"]}')\n",
    "print(f'Выборочное среднее - {results[\"mean\"]}, Медиана - {results[\"median\"]}, Абсолютно среднее отклонение - {results[\"absoluteMeanDeviation\"]}')\n",
    "print(f'Дисперсия - {results[\"dispersion\"]}, Стандартное отклонение - {results[\"standardDeviation\"]}, Коэф. Ассиметрии - {results[\"asymmetryCoefficient\"]}')\n",
    "print(f'Минимальный элемент - {results[\"minElement\"]}, Максимальный элемент - {results[\"maxElement\"]}, Размах - {results[\"selectionRange\"]}')\n",
    "print(f'Первая квартиль - {results[\"firstQuartile\"]}, Третья квартиль - {results[\"thirdQuartile\"]}, Интерквартильная Широта - {results[\"interquartileLatitude\"]}')"
   ]
  },
  {
   "cell_type": "markdown",
   "id": "c7e55973e79751ca",
   "metadata": {
    "collapsed": false
   },
   "source": [
    "#### График значений"
   ]
  },
  {
   "cell_type": "code",
   "execution_count": 139,
   "id": "8ce7bd5a127ca77",
   "metadata": {
    "collapsed": false,
    "ExecuteTime": {
     "end_time": "2024-02-17T21:41:58.647261Z",
     "start_time": "2024-02-17T21:41:58.260697Z"
    }
   },
   "outputs": [
    {
     "data": {
      "text/plain": "<Figure size 640x480 with 1 Axes>",
      "image/png": "[encoded data removed]"
     },
     "metadata": {},
     "output_type": "display_data"
    }
   ],
   "source": [
    "plt.scatter([i for i in range(int(results['selectionLength']))],sortedData, 2, \"#f542e3\");"
   ]
  },
  {
   "cell_type": "markdown",
   "id": "2a51e7668b2bbcf3",
   "metadata": {
    "collapsed": false
   },
   "source": [
    "#### Ящик с усами"
   ]
  },
  {
   "cell_type": "code",
   "execution_count": 140,
   "id": "e2ee2ca5be016e47",
   "metadata": {
    "collapsed": false,
    "ExecuteTime": {
     "end_time": "2024-02-17T21:41:58.925954Z",
     "start_time": "2024-02-17T21:41:58.684845Z"
    }
   },
   "outputs": [
    {
     "data": {
      "text/plain": "<Figure size 640x480 with 1 Axes>",
      "image/png": "[encoded data removed]"
     },
     "metadata": {},
     "output_type": "display_data"
    }
   ],
   "source": [
    "frame.boxplot();"
   ]
  },
  {
   "cell_type": "markdown",
   "id": "c9ed5401af40e939",
   "metadata": {
    "collapsed": false
   },
   "source": [
    "#### Частотная гистограмма"
   ]
  },
  {
   "cell_type": "code",
   "execution_count": 141,
   "id": "de5033dbbc384a94",
   "metadata": {
    "collapsed": false,
    "ExecuteTime": {
     "end_time": "2024-02-17T21:41:59.232635Z",
     "start_time": "2024-02-17T21:41:58.954597Z"
    }
   },
   "outputs": [
    {
     "data": {
      "text/plain": "<Figure size 640x480 with 1 Axes>",
      "image/png": "[encoded data removed]"
     },
     "metadata": {},
     "output_type": "display_data"
    }
   ],
   "source": [
    "plt.hist(sortedData, bins=results['barData']['intervalsCount'],color=\"#f542e3\");"
   ]
  },
  {
   "cell_type": "markdown",
   "id": "d4e82b43bace3e17",
   "metadata": {
    "collapsed": false
   },
   "source": [
    "#### Вероятностная гистограмма"
   ]
  },
  {
   "cell_type": "code",
   "execution_count": 142,
   "id": "a7c0e332f5820334",
   "metadata": {
    "collapsed": false,
    "ExecuteTime": {
     "end_time": "2024-02-17T21:41:59.618367Z",
     "start_time": "2024-02-17T21:41:59.279789Z"
    }
   },
   "outputs": [
    {
     "data": {
      "text/plain": "<Figure size 640x480 with 1 Axes>",
      "image/png": "[encoded data removed]"
     },
     "metadata": {},
     "output_type": "display_data"
    }
   ],
   "source": [
    "plt.hist(results['barData']['intervals'][:-1], \n",
    "         bins=results['barData']['intervalsCount'], \n",
    "         weights=results['barData']['relativeFrequency'], \n",
    "         color=\"#f542e3\");"
   ]
  },
  {
   "cell_type": "markdown",
   "id": "6386272fa36901df",
   "metadata": {
    "collapsed": false
   },
   "source": [
    "#### Эмпирическая функция распределения"
   ]
  },
  {
   "cell_type": "code",
   "execution_count": 143,
   "id": "d09713e2264a5983",
   "metadata": {
    "collapsed": false,
    "ExecuteTime": {
     "end_time": "2024-02-17T21:41:59.872686Z",
     "start_time": "2024-02-17T21:41:59.578894Z"
    }
   },
   "outputs": [
    {
     "data": {
      "text/plain": "<Figure size 640x480 with 1 Axes>",
      "image/png": "[encoded data removed]"
     },
     "metadata": {},
     "output_type": "display_data"
    }
   ],
   "source": [
    "distribution = sm.distributions.ECDF(sortedData)\n",
    "plt.step(distribution.x, distribution.y, label='ECDF', color=\"#f542e3\");"
   ]
  }
 ],
 "metadata": {
  "kernelspec": {
   "display_name": "Python 3 (ipykernel)",
   "language": "python",
   "name": "python3"
  },
  "language_info": {
   "codemirror_mode": {
    "name": "ipython",
    "version": 3
   },
   "file_extension": ".py",
   "mimetype": "text/x-python",
   "name": "python",
   "nbconvert_exporter": "python",
   "pygments_lexer": "ipython3",
   "version": "3.9.6"
  }
 },
 "nbformat": 4,
 "nbformat_minor": 5
}
