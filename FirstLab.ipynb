{
 "cells": [
  {
   "cell_type": "markdown",
   "source": [
    "# Первая Лабораторная работа"
   ],
   "metadata": {
    "collapsed": false
   },
   "id": "7d4381a5dceca6fc"
  },
  {
   "cell_type": "code",
   "outputs": [
    {
     "name": "stderr",
     "output_type": "stream",
     "text": [
      "/var/folders/rt/dtq9j3h12sg3n9hstlmcg6c40000gn/T/ipykernel_67135/206828853.py:3: DeprecationWarning: \n",
      "Pyarrow will become a required dependency of pandas in the next major release of pandas (pandas 3.0),\n",
      "(to allow more performant data types, such as the Arrow string type, and better interoperability with other libraries)\n",
      "but was not found to be installed on your system.\n",
      "If this would cause problems for you,\n",
      "please provide us feedback at https://github.com/pandas-dev/pandas/issues/54466\n",
      "        \n",
      "  import pandas\n"
     ]
    }
   ],
   "source": [
    "import csv\n",
    "import math\n",
    "import pandas\n",
    "import matplotlib\n",
    "from typing import Dict"
   ],
   "metadata": {
    "collapsed": false,
    "ExecuteTime": {
     "end_time": "2024-02-15T10:45:43.866343Z",
     "start_time": "2024-02-15T10:44:39.098920Z"
    }
   },
   "id": "5c8d0390df0d6b25",
   "execution_count": 3
  },
  {
   "cell_type": "markdown",
   "source": [
    "### Выводим нужные данные и строим графики"
   ],
   "metadata": {
    "collapsed": false
   },
   "id": "e4edf2caf876fe4f"
  },
  {
   "cell_type": "code",
   "outputs": [],
   "source": [
    "def show(data: Dict[str, float], sortedData: list[float]) -> None:\n",
    "    firstFrame = pandas.DataFrame(sortedData)\n",
    "    secondFrame = pandas.DataFrame(sortedData)\n",
    "    firstFrame.plot()\n",
    "    secondFrame.boxplot()\n",
    "    print(data)"
   ],
   "metadata": {
    "collapsed": false,
    "ExecuteTime": {
     "end_time": "2024-02-15T10:45:43.915692Z",
     "start_time": "2024-02-15T10:45:43.832569Z"
    }
   },
   "id": "8ce7bd5a127ca77",
   "execution_count": 4
  },
  {
   "cell_type": "markdown",
   "source": [
    "### Получаем и структурируем информацию"
   ],
   "metadata": {
    "collapsed": false
   },
   "id": "d57e8fc85a30113e"
  },
  {
   "cell_type": "code",
   "outputs": [],
   "source": [
    "def getBarData(results: Dict[str, float]) -> Dict[str, float]:\n",
    "    barData = {}\n",
    "    barData['intervalsCount'] = int(results['selectionLength']/10)\n",
    "    barData['step'] = round(results['selectionRange']/barData['intervalsCount'],2)\n",
    "    \n",
    "        # dataVariata = {value:rowData.count(value) for value in rowData}\n",
    "    \n",
    "    return barData"
   ],
   "metadata": {
    "collapsed": false,
    "ExecuteTime": {
     "end_time": "2024-02-15T10:45:43.989737Z",
     "start_time": "2024-02-15T10:45:43.865408Z"
    }
   },
   "id": "545f5a9219d7dcd",
   "execution_count": 5
  },
  {
   "cell_type": "code",
   "outputs": [],
   "source": [
    "def getQuartile(data: list[float], n: float, param: float) -> float:\n",
    "    expr = (n - 1) * param\n",
    "    return data[expr+1] if expr==int(expr) else (data[int(expr)+1] + data[int(expr)+2])/2"
   ],
   "metadata": {
    "collapsed": false,
    "ExecuteTime": {
     "end_time": "2024-02-15T10:45:44.117837Z",
     "start_time": "2024-02-15T10:45:43.947620Z"
    }
   },
   "id": "9ee6fd110d14eaef",
   "execution_count": 6
  },
  {
   "cell_type": "code",
   "outputs": [],
   "source": [
    "def compute(data: list[float]) -> dict[str, float]:\n",
    "    results: Dict[str, float] = {}\n",
    "    frame = pandas.DataFrame(sortedData)\n",
    "    \n",
    "    results['selectionLength'] = len(sortedData)\n",
    "    results['minElement'] = min(sortedData)\n",
    "    results['maxElement'] = max(sortedData)\n",
    "    results['selectionRange'] = results['maxElement'] - results['minElement']\n",
    "    results['mean'] = round(sum(sortedData)/results['selectionLength'],2)\n",
    "    results['meanByPandas'] = round(frame.mean().values[0],2)\n",
    "    expr = (results['selectionLength']-1)/2\n",
    "    results['median'] = sortedData[int(expr)+1] if expr==int(expr) else (sortedData[int(expr)+1] + sortedData[int(expr)+2])/2\n",
    "    results['medianByPandas'] = round(frame.median().values[0],2)\n",
    "    results['absoluteMeanDeviation'] = round(sum([x-results['mean'] for x in sortedData])/results['selectionLength'],3)\n",
    "    results['dispersion'] = round(sum([(x-results['mean'])**2 for x in sortedData])/(results['selectionLength']-1),2)\n",
    "    results['standardDeviation'] = round(math.sqrt(results['dispersion']),2)\n",
    "    results['firstQuartile'] = getQuartile(sortedData, results['selectionLength'], 0.25)\n",
    "    results['thirdQuartile'] = getQuartile(sortedData, results['selectionLength'], 0.75)\n",
    "    results['interquartileLatitude'] = results['thirdQuartile'] - results['firstQuartile']\n",
    "    results['asymmetryCoefficient'] = round(sum([(x-results['mean'])**3 for x in sortedData])/(results['selectionLength']*results['standardDeviation']**3),2)\n",
    "    barData = getBarData(results)\n",
    "    results['barData'] = barData\n",
    "    \n",
    "    return results"
   ],
   "metadata": {
    "collapsed": false,
    "ExecuteTime": {
     "end_time": "2024-02-15T10:45:44.120670Z",
     "start_time": "2024-02-15T10:45:44.006780Z"
    }
   },
   "id": "155996ab3fa92605",
   "execution_count": 7
  },
  {
   "cell_type": "markdown",
   "source": [
    "### Считываем данные из файла и вызываем функции Compute и Show"
   ],
   "metadata": {
    "collapsed": false
   },
   "id": "47212360c231222a"
  },
  {
   "cell_type": "code",
   "outputs": [
    {
     "name": "stdout",
     "output_type": "stream",
     "text": [
      "{'selectionLength': 92, 'minElement': 110.5, 'maxElement': 126.5, 'selectionRange': 16.0, 'mean': 121.0, 'meanByPandas': 121.0, 'median': 121.4, 'medianByPandas': 121.25, 'absoluteMeanDeviation': -0.002, 'dispersion': 8.04, 'standardDeviation': 2.84, 'firstQuartile': 119.1, 'thirdQuartile': 123.1, 'interquartileLatitude': 4.0, 'asymmetryCoefficient': -0.7, 'barData': {'intervalsCount': 9, 'step': 1.78}}\n"
     ]
    },
    {
     "data": {
      "text/plain": "<Figure size 640x480 with 1 Axes>",
      "image/png": "[encoded data removed]"
     },
     "metadata": {},
     "output_type": "display_data"
    }
   ],
   "source": [
    "with open('data/r1z1.csv', 'r', newline='') as csvfile:\n",
    "    csvReader = csv.reader(csvfile, delimiter=' ', quotechar='|')\n",
    "    rowData = [''.join(row) for row in csvReader][1:]\n",
    "    sortedData = list(map(float,rowData))\n",
    "    sortedData.sort()\n",
    "    results = compute(sortedData)\n",
    "    show(results, sortedData)"
   ],
   "metadata": {
    "collapsed": false,
    "ExecuteTime": {
     "end_time": "2024-02-15T10:45:50.182447Z",
     "start_time": "2024-02-15T10:45:44.061431Z"
    }
   },
   "id": "f19bb8549c42c9b1",
   "execution_count": 8
  }
 ],
 "metadata": {
  "kernelspec": {
   "display_name": "Python 3",
   "language": "python",
   "name": "python3"
  },
  "language_info": {
   "codemirror_mode": {
    "name": "ipython",
    "version": 2
   },
   "file_extension": ".py",
   "mimetype": "text/x-python",
   "name": "python",
   "nbconvert_exporter": "python",
   "pygments_lexer": "ipython2",
   "version": "2.7.6"
  }
 },
 "nbformat": 4,
 "nbformat_minor": 5
}
