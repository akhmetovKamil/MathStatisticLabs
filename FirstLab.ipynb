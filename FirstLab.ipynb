{
 "cells": [
  {
   "cell_type": "markdown",
   "id": "7d4381a5dceca6fc",
   "metadata": {
    "collapsed": false
   },
   "source": [
    "# Первая Лабораторная работа"
   ]
  },
  {
   "cell_type": "markdown",
   "id": "4f181ab1f3217df3",
   "metadata": {
    "collapsed": false
   },
   "source": [
    "#### Устанавливаем зависимости и подключаем библиотеки"
   ]
  },
  {
   "cell_type": "code",
   "execution_count": 32,
   "id": "628d5ed6353f296f",
   "metadata": {
    "collapsed": false,
    "ExecuteTime": {
     "end_time": "2024-02-23T08:44:37.202228Z",
     "start_time": "2024-02-23T08:44:37.018328Z"
    }
   },
   "outputs": [],
   "source": [
    "# !pip install -r requirements.txt"
   ]
  },
  {
   "cell_type": "code",
   "execution_count": 33,
   "id": "5c8d0390df0d6b25",
   "metadata": {
    "collapsed": false,
    "ExecuteTime": {
     "end_time": "2024-02-23T08:44:37.379432Z",
     "start_time": "2024-02-23T08:44:37.230788Z"
    }
   },
   "outputs": [],
   "source": [
    "import csv\n",
    "import math\n",
    "import pandas\n",
    "import matplotlib.pyplot as plt\n",
    "import statsmodels.api as sm\n",
    "import scipy as sc\n",
    "import numpy as np\n",
    "from typing import Dict"
   ]
  },
  {
   "cell_type": "markdown",
   "id": "e4edf2caf876fe4f",
   "metadata": {
    "collapsed": false
   },
   "source": [
    "#### Считываем и сортируем данные"
   ]
  },
  {
   "cell_type": "code",
   "execution_count": 34,
   "id": "4dec57f7cc7c1b77",
   "metadata": {
    "collapsed": false,
    "ExecuteTime": {
     "end_time": "2024-02-23T08:44:37.381735Z",
     "start_time": "2024-02-23T08:44:37.261499Z"
    }
   },
   "outputs": [],
   "source": [
    "csvfile = open('data/r1z1.csv', 'r', newline='')\n",
    "csvReader = csv.reader(csvfile, delimiter=' ', quotechar='|')\n",
    "rowData = [''.join(row) for row in csvReader][1:]\n",
    "sortedData = list(map(float,rowData))\n",
    "sortedData.sort()\n",
    "frame = pandas.DataFrame(sortedData)"
   ]
  },
  {
   "cell_type": "markdown",
   "id": "fb4e8c0badc2c32",
   "metadata": {
    "collapsed": false
   },
   "source": [
    "#### Вычисляем необходимые данные о выборке"
   ]
  },
  {
   "cell_type": "code",
   "execution_count": 35,
   "id": "a08dd16b06c90917",
   "metadata": {
    "collapsed": false,
    "ExecuteTime": {
     "end_time": "2024-02-23T08:44:37.456001Z",
     "start_time": "2024-02-23T08:44:37.354913Z"
    }
   },
   "outputs": [],
   "source": [
    "results: Dict[str, float] = {}\n",
    "results['selectionLength'] = len(sortedData)\n",
    "results['minElement'] = min(sortedData)\n",
    "results['maxElement'] = max(sortedData)\n",
    "results['selectionRange'] = results['maxElement'] - results['minElement']\n",
    "results['mean'] = round(sum(sortedData)/results['selectionLength'],2)\n",
    "expr = (results['selectionLength']-1)/2\n",
    "results['median'] = sortedData[expr+1] if expr==int(expr) else (sortedData[int(expr)+1] + sortedData[int(expr)+2])/2\n",
    "results['absoluteMeanDeviation'] = abs(round((sum([x-results['mean'] for x in sortedData]))/results['selectionLength'],3))\n",
    "results['dispersion'] = round(sum([(x-results['mean'])**2 for x in sortedData])/(results['selectionLength']-1),2)\n",
    "results['standardDeviation'] = round(math.sqrt(results['dispersion']),2)\n",
    "results['asymmetryCoefficient'] = round(sum([(x-results['mean'])**3 for x in sortedData])/(results['selectionLength']*results['standardDeviation']**3),2)"
   ]
  },
  {
   "cell_type": "code",
   "execution_count": 36,
   "id": "36b5e6769f6101b4",
   "metadata": {
    "collapsed": false,
    "ExecuteTime": {
     "end_time": "2024-02-23T08:44:37.580531Z",
     "start_time": "2024-02-23T08:44:37.457700Z"
    }
   },
   "outputs": [],
   "source": [
    "def getQuartile(data: list[float], n: float, param: float) -> float:\n",
    "    expr = (n - 1) * param\n",
    "    return data[expr+1] if expr==int(expr) else (data[int(expr)+1] + data[int(expr)+2])/2\n",
    "results['firstQuartile'] = getQuartile(sortedData, results['selectionLength'], 0.25)\n",
    "results['thirdQuartile'] = getQuartile(sortedData, results['selectionLength'], 0.75)\n",
    "results['interquartileLatitude'] = results['thirdQuartile'] - results['firstQuartile']"
   ]
  },
  {
   "cell_type": "markdown",
   "source": [
    "#### Вычисляем необходимые данные с помощью готовых функций из пакетов pandas, numpy, scipy"
   ],
   "metadata": {
    "collapsed": false
   },
   "id": "1c5e5e09f164461a"
  },
  {
   "cell_type": "code",
   "outputs": [],
   "source": [
    "packageResults = {}\n",
    "packageResults['mean'] = round(frame.mean().values[0],2)\n",
    "packageResults['median'] = round(frame.median().values[0],2)\n",
    "packageResults['asymmetryCoefficient'] = sc.stats.skew(sortedData,axis=0,bias = True)\n",
    "packageResults['standardDeviation'] = np.std(sortedData)\n",
    "packageResults['dispersion'] = np.std(sortedData)**2\n",
    "packageResults['interquartileLatitude'] = np.percentile(sortedData, 75) - np.percentile(sortedData, 25)"
   ],
   "metadata": {
    "collapsed": false,
    "ExecuteTime": {
     "end_time": "2024-02-23T08:44:37.723999Z",
     "start_time": "2024-02-23T08:44:37.568162Z"
    }
   },
   "id": "17cbe6df27f58658",
   "execution_count": 37
  },
  {
   "cell_type": "markdown",
   "source": [
    "#### Вычисляем данные для построения гистограмм"
   ],
   "metadata": {
    "collapsed": false
   },
   "id": "8f67fd16fb481e05"
  },
  {
   "cell_type": "code",
   "execution_count": 38,
   "id": "d813021c292244e5",
   "metadata": {
    "collapsed": false,
    "ExecuteTime": {
     "end_time": "2024-02-23T08:44:37.766774Z",
     "start_time": "2024-02-23T08:44:37.635958Z"
    }
   },
   "outputs": [],
   "source": [
    "barData = {}\n",
    "barData['intervalsCount'] = int(results['selectionLength']/10)\n",
    "barData['step'] = results['selectionRange']/(barData['intervalsCount'])\n",
    "barData['intervals'] = np.arange(results['minElement'] + barData['step']/2, results['maxElement'] - barData['step']/2, barData['step'])\n",
    "barData['frequency'], _ = np.histogram(sortedData, bins=barData['intervals'])\n",
    "barData['relativeFrequency'] = barData['frequency'] / results['selectionLength']\n",
    "barData['weights'] = barData['relativeFrequency'] / barData['step']\n",
    "results['barData'] = barData"
   ]
  },
  {
   "cell_type": "markdown",
   "id": "1cdb6070dbcba029",
   "metadata": {
    "collapsed": false
   },
   "source": [
    "#### Выводим числовые данные"
   ]
  },
  {
   "cell_type": "code",
   "execution_count": 39,
   "id": "242fa6f5d6499f4e",
   "metadata": {
    "collapsed": false,
    "ExecuteTime": {
     "end_time": "2024-02-23T08:44:37.913220Z",
     "start_time": "2024-02-23T08:44:37.752326Z"
    }
   },
   "outputs": [
    {
     "name": "stdout",
     "output_type": "stream",
     "text": [
      "Объем выборки - 92\n",
      "Выборочное среднее - 121.0, Медиана - 121.4, Абсолютно среднее отклонение - 0.002\n",
      "Дисперсия - 8.04, Стандартное отклонение - 2.84, Коэф. Ассиметрии - -0.7\n",
      "Минимальный элемент - 110.5, Максимальный элемент - 126.5, Размах - 16.0\n",
      "Первая квартиль - 119.1, Третья квартиль - 123.1, Интерквартильная Широта - 4.0\n"
     ]
    }
   ],
   "source": [
    "print(f'Объем выборки - {results[\"selectionLength\"]}')\n",
    "print(f'Выборочное среднее - {results[\"mean\"]}, Медиана - {results[\"median\"]}, Абсолютно среднее отклонение - {results[\"absoluteMeanDeviation\"]}')\n",
    "print(f'Дисперсия - {results[\"dispersion\"]}, Стандартное отклонение - {results[\"standardDeviation\"]}, Коэф. Ассиметрии - {results[\"asymmetryCoefficient\"]}')\n",
    "print(f'Минимальный элемент - {results[\"minElement\"]}, Максимальный элемент - {results[\"maxElement\"]}, Размах - {results[\"selectionRange\"]}')\n",
    "print(f'Первая квартиль - {results[\"firstQuartile\"]}, Третья квартиль - {results[\"thirdQuartile\"]}, Интерквартильная Широта - {results[\"interquartileLatitude\"]}')"
   ]
  },
  {
   "cell_type": "markdown",
   "id": "c7e55973e79751ca",
   "metadata": {
    "collapsed": false
   },
   "source": [
    "#### График значений"
   ]
  },
  {
   "cell_type": "code",
   "execution_count": 40,
   "id": "8ce7bd5a127ca77",
   "metadata": {
    "collapsed": false,
    "ExecuteTime": {
     "end_time": "2024-02-23T08:44:38.530692Z",
     "start_time": "2024-02-23T08:44:37.822350Z"
    }
   },
   "outputs": [
    {
     "data": {
      "text/plain": "<Figure size 640x480 with 1 Axes>",
      "image/png": "[encoded data removed]"
     },
     "metadata": {},
     "output_type": "display_data"
    }
   ],
   "source": [
    "plt.scatter([i for i in range(int(results['selectionLength']))],sortedData, 2, \"#f542e3\");"
   ]
  },
  {
   "cell_type": "markdown",
   "id": "2a51e7668b2bbcf3",
   "metadata": {
    "collapsed": false
   },
   "source": [
    "#### Ящик с усами"
   ]
  },
  {
   "cell_type": "code",
   "execution_count": 41,
   "id": "e2ee2ca5be016e47",
   "metadata": {
    "collapsed": false,
    "ExecuteTime": {
     "end_time": "2024-02-23T08:44:39.751410Z",
     "start_time": "2024-02-23T08:44:38.523147Z"
    }
   },
   "outputs": [
    {
     "data": {
      "text/plain": "<Figure size 640x480 with 1 Axes>",
      "image/png": "[encoded data removed]"
     },
     "metadata": {},
     "output_type": "display_data"
    }
   ],
   "source": [
    "frame.boxplot();"
   ]
  },
  {
   "cell_type": "markdown",
   "id": "c9ed5401af40e939",
   "metadata": {
    "collapsed": false
   },
   "source": [
    "#### Частотная гистограмма"
   ]
  },
  {
   "cell_type": "code",
   "execution_count": 42,
   "id": "de5033dbbc384a94",
   "metadata": {
    "collapsed": false,
    "ExecuteTime": {
     "end_time": "2024-02-23T08:44:40.648368Z",
     "start_time": "2024-02-23T08:44:39.752047Z"
    }
   },
   "outputs": [
    {
     "data": {
      "text/plain": "<Figure size 640x480 with 1 Axes>",
      "image/png": "[encoded data removed]"
     },
     "metadata": {},
     "output_type": "display_data"
    }
   ],
   "source": [
    "plt.hist(sortedData, bins=results['barData']['intervals'], color=\"#f542e3\");"
   ]
  },
  {
   "cell_type": "markdown",
   "id": "d4e82b43bace3e17",
   "metadata": {
    "collapsed": false
   },
   "source": [
    "#### Вероятностная гистограмма"
   ]
  },
  {
   "cell_type": "code",
   "execution_count": 43,
   "id": "a7c0e332f5820334",
   "metadata": {
    "collapsed": false,
    "ExecuteTime": {
     "end_time": "2024-02-23T08:44:41.953503Z",
     "start_time": "2024-02-23T08:44:40.640762Z"
    }
   },
   "outputs": [
    {
     "data": {
      "text/plain": "<Figure size 640x480 with 1 Axes>",
      "image/png": "[encoded data removed]"
     },
     "metadata": {},
     "output_type": "display_data"
    }
   ],
   "source": [
    "# plt.hist(sortedData, bins=results['barData']['intervals'],density=True, color=\"#f542e3\"); вероятностная гистограмма в plt\n",
    "plt.hist(barData['intervals'][:-1], \n",
    "         bins=results['barData']['intervals'], \n",
    "         weights=results['barData']['weights'], \n",
    "         color=\"#f542e3\");"
   ]
  },
  {
   "cell_type": "markdown",
   "id": "6386272fa36901df",
   "metadata": {
    "collapsed": false
   },
   "source": [
    "#### Эмпирическая функция распределения"
   ]
  },
  {
   "cell_type": "code",
   "execution_count": 44,
   "id": "d09713e2264a5983",
   "metadata": {
    "collapsed": false,
    "ExecuteTime": {
     "end_time": "2024-02-23T08:44:43.203589Z",
     "start_time": "2024-02-23T08:44:41.955022Z"
    }
   },
   "outputs": [
    {
     "data": {
      "text/plain": "<Figure size 640x480 with 1 Axes>",
      "image/png": "[encoded data removed]"
     },
     "metadata": {},
     "output_type": "display_data"
    }
   ],
   "source": [
    "distribution = sm.distributions.ECDF(sortedData)\n",
    "plt.step(distribution.x, distribution.y, label='ECDF', color=\"#f542e3\");"
   ]
  }
 ],
 "metadata": {
  "kernelspec": {
   "display_name": "Python 3 (ipykernel)",
   "language": "python",
   "name": "python3"
  },
  "language_info": {
   "codemirror_mode": {
    "name": "ipython",
    "version": 3
   },
   "file_extension": ".py",
   "mimetype": "text/x-python",
   "name": "python",
   "nbconvert_exporter": "python",
   "pygments_lexer": "ipython3",
   "version": "3.9.6"
  }
 },
 "nbformat": 4,
 "nbformat_minor": 5
}
